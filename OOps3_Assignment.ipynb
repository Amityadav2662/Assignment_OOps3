{
 "cells": [
  {
   "cell_type": "code",
   "execution_count": 15,
   "id": "61915706-4ef5-4996-b8fb-18b172c37ca0",
   "metadata": {},
   "outputs": [
    {
     "name": "stdout",
     "output_type": "stream",
     "text": [
      "140\n",
      "Toyota\n",
      "120\n",
      "Rider\n"
     ]
    }
   ],
   "source": [
    "# Q1, Create a vehicle class with an init method having instance variables as name_of_vehicle, max_speed\n",
    "# and average_of_vehicle.\n",
    "class Vehicle:\n",
    "    def __init__(self,name_of_vechile,max_speed,average_of_vehicle):\n",
    "        self.name_of_vechile = name_of_vechile\n",
    "        self.max_speed = max_speed\n",
    "        self.average_of_vehicle = average_of_vehicle\n",
    "\n",
    "\n",
    "car = Vehicle(\"Toyota\",140,70)\n",
    "bike = Vehicle(\"Rider\",120,50)\n",
    "print(car.max_speed)\n",
    "print(car.name_of_vechile)\n",
    "print(bike.max_speed)\n",
    "print(bike.name_of_vechile)"
   ]
  },
  {
   "cell_type": "code",
   "execution_count": 27,
   "id": "5944d30c-85eb-4cdc-87a1-46152ba65027",
   "metadata": {},
   "outputs": [
    {
     "name": "stdout",
     "output_type": "stream",
     "text": [
      "150\n",
      "MarutiSuzuki\n",
      "70\n",
      "The name of the vechile is MarutiSuzuki and its seating capacity is 5\n"
     ]
    }
   ],
   "source": [
    "# Q2.Create a child class car from the vehicle class created in Que 1, which will inherit the vehicle class.\n",
    "# Create a method named seating_capacity which takes capacity as an argument and returns the name of\n",
    "# the vehicle and its seating capacity.\n",
    "\n",
    "class Car(Vehicle):\n",
    "    \n",
    "    def seating_capacity(self,capacity):\n",
    "        return \"The name of the vechile is {} and its seating capacity is {}\".format(self.name_of_vechile,capacity)\n",
    "            \n",
    "c = Car(\"MarutiSuzuki\",150,70)\n",
    "print(c.max_speed)\n",
    "print(c.name_of_vechile)\n",
    "print(c.average_of_vehicle)\n",
    "print(c.seating_capacity(5))"
   ]
  },
  {
   "cell_type": "code",
   "execution_count": null,
   "id": "59da573e-b7ef-4532-a843-7268406bd822",
   "metadata": {},
   "outputs": [],
   "source": [
    "# Q3.What is multiple inheritance? Write a python code to demonstrate multiple inheritance.\n",
    "Ans.\n",
    "Multiple Inheritance: Multiple inheritance is refers to that where one child class inherit data and attributes\n",
    "from more than one parent class"
   ]
  },
  {
   "cell_type": "code",
   "execution_count": 39,
   "id": "69a5fd77-6fc4-4f82-b6ab-508466a92922",
   "metadata": {},
   "outputs": [
    {
     "name": "stdout",
     "output_type": "stream",
     "text": [
      "Labara\n",
      "Black\n",
      "Greedy\n",
      "Yellow\n",
      "The name of the dog is Greedy\n"
     ]
    }
   ],
   "source": [
    "# Example\n",
    "\n",
    "class Animal:\n",
    "    def __init__(self,animal_name,color):\n",
    "        self.animal_name = animal_name\n",
    "        self.color = color\n",
    "        \n",
    "class Dog:\n",
    "    def name(self):\n",
    "        return \"The name of the dog is {}\".format(self.animal_name)\n",
    "        \n",
    "class Bread(Animal,Dog):\n",
    "    def color(self):\n",
    "        return \"The color of the dog is {}\".format(self.color)\n",
    "        \n",
    "A = Bread(\"Labara\",\"Black\")\n",
    "A1 = Bread(\"Greedy\",\"Yellow\")\n",
    "\n",
    "print(A.animal_name)\n",
    "print(A.color)\n",
    "print(A1.animal_name)\n",
    "print(A1.color)\n",
    "print(A1.name())"
   ]
  },
  {
   "cell_type": "code",
   "execution_count": null,
   "id": "819ada76-d5b3-4ffb-a0cd-c67232e2a72d",
   "metadata": {},
   "outputs": [],
   "source": [
    "# Q4. What are getter and setter in python? Create a class and create a getter and a setter method in this\n",
    "# class.\n",
    "Ans. \n",
    "Getters and Setters are methods used to get and set the values of class attributes respectively. They provide\n",
    "an interface to access and modify the attributes of an object in a controlled manner. The getter method\n",
    "retrieves the value of an attribute, while the setter method sets a new value for that attribute"
   ]
  },
  {
   "cell_type": "code",
   "execution_count": 50,
   "id": "1d13a691-62f6-45f9-aefe-6899c838eaf6",
   "metadata": {},
   "outputs": [
    {
     "name": "stdout",
     "output_type": "stream",
     "text": [
      "126457\n",
      "2000\n",
      "3000\n"
     ]
    }
   ],
   "source": [
    "# Example\n",
    "\n",
    "class Bank:\n",
    "    def __init__(self,account_number,balance):\n",
    "        self.account_number = account_number\n",
    "        self.__balance = balance\n",
    "        \n",
    "    def get_balance(self):\n",
    "        return self.__balance\n",
    "        \n",
    "    def set_balance(self,new_balance):\n",
    "        self.__balance = new_balance\n",
    "\n",
    "acc = Bank(\"126457\",2000)\n",
    "print(acc.account_number)\n",
    "print(acc.get_balance())\n",
    "acc.set_balance(3000)\n",
    "print(acc.get_balance())"
   ]
  },
  {
   "cell_type": "code",
   "execution_count": null,
   "id": "5dee3b70-5c65-42e4-a558-25260b7d5a2d",
   "metadata": {},
   "outputs": [],
   "source": [
    "# Q5.What is method overriding in python? Write a python code to demonstrate method overriding.\n",
    "Ans.\n",
    "Method Overriding : It is refers to that when in a class the two methods exist with same name but their behaviour\n",
    "is different that is called the method overriding. It does not work in python but we can perform by using default\n",
    "keyword."
   ]
  },
  {
   "cell_type": "code",
   "execution_count": 57,
   "id": "d98ccc8a-4d27-4729-85da-41aa43d3707c",
   "metadata": {},
   "outputs": [
    {
     "name": "stdout",
     "output_type": "stream",
     "text": [
      "Inside the smartphones\n",
      "The Phone is second hand. would you like to purchase\n"
     ]
    },
    {
     "data": {
      "text/plain": [
       "'OnePlus'"
      ]
     },
     "execution_count": 57,
     "metadata": {},
     "output_type": "execute_result"
    }
   ],
   "source": [
    "# Example\n",
    "class SmartPhones:\n",
    "    def __init__(self,model,brand,processor):\n",
    "        print(\"Inside the smartphones\")\n",
    "        self.model = model\n",
    "        self.brand = brand\n",
    "        self.processor = processor\n",
    "        \n",
    "    def buy(self):\n",
    "        print(\"You want to buy the smartphone\")\n",
    "\n",
    "class Phone(SmartPhones):\n",
    "    def buy(self):\n",
    "        print(\"The Phone is second hand. would you like to purchase\")\n",
    "\n",
    "p = Phone(\"OnePlus Nord CE 3 Lite 5G\",\"OnePlus\",\"Snapdragon\")  \n",
    "p.buy()\n",
    "p.brand"
   ]
  },
  {
   "cell_type": "code",
   "execution_count": null,
   "id": "6c00721c-7f0b-4982-b9f3-fc366a45a1d2",
   "metadata": {},
   "outputs": [],
   "source": []
  }
 ],
 "metadata": {
  "kernelspec": {
   "display_name": "Python 3 (ipykernel)",
   "language": "python",
   "name": "python3"
  },
  "language_info": {
   "codemirror_mode": {
    "name": "ipython",
    "version": 3
   },
   "file_extension": ".py",
   "mimetype": "text/x-python",
   "name": "python",
   "nbconvert_exporter": "python",
   "pygments_lexer": "ipython3",
   "version": "3.10.8"
  }
 },
 "nbformat": 4,
 "nbformat_minor": 5
}
